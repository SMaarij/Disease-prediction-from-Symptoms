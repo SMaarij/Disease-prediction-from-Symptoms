{
 "cells": [
  {
   "cell_type": "markdown",
   "metadata": {},
   "source": [
    "MODEL TRAINING(Random Forest Model)"
   ]
  },
  {
   "cell_type": "code",
   "execution_count": null,
   "metadata": {},
   "outputs": [],
   "source": [
    "import numpy as np  # linear algebra\n",
    "import pandas as pd  # data processing, CSV file I/O (e.g. pd.read_csv)\n",
    "from sklearn.ensemble import RandomForestClassifier  # Random Forest model\n",
    "from sklearn.preprocessing import LabelEncoder  # Label encoding for target variable\n",
    "from sklearn.metrics import accuracy_score, confusion_matrix  # Evaluation metrics\n",
    "from sklearn.model_selection import train_test_split  # To split the dataset\n",
    "import matplotlib.pyplot as plt  # Plotting library\n",
    "import seaborn as sns  # Data visualization library"
   ]
  },
  {
   "cell_type": "code",
   "execution_count": null,
   "metadata": {},
   "outputs": [],
   "source": [
    "# Load training data\n",
    "df = pd.read_csv('Dataset\\\\training_data.csv')  # Read the training dataset\n",
    "df.head()  # Display the first few rows of the dataset to understand its structure"
   ]
  },
  {
   "cell_type": "code",
   "execution_count": null,
   "metadata": {},
   "outputs": [],
   "source": [
    "# Encode target variable\n",
    "encoder = LabelEncoder()  # Initialize the label encoder\n",
    "df['prognosis'] = encoder.fit_transform(df.prognosis)  # Encode the 'prognosis' column to convert categorical labels to numeric"
   ]
  },
  {
   "cell_type": "code",
   "execution_count": null,
   "metadata": {},
   "outputs": [],
   "source": [
    "# Drop unnecessary column\n",
    "df = df.drop(['Unnamed: 133'], axis=1)  # Drop the 'Unnamed: 133' column, which is not needed for the analysis\n",
    "df.head()  # Display the first few rows of the dataset after dropping the column to verify changes"
   ]
  },
  {
   "cell_type": "code",
   "execution_count": null,
   "metadata": {},
   "outputs": [],
   "source": [
    "# Check correlations\n",
    "df.corr()  # Calculate and display the correlation matrix to understand relationships between variables"
   ]
  },
  {
   "cell_type": "code",
   "execution_count": null,
   "metadata": {},
   "outputs": [],
   "source": [
    "# Check for missing values\n",
    "df.isnull().sum()  # Check for missing values in each column to ensure data quality"
   ]
  },
  {
   "cell_type": "code",
   "execution_count": null,
   "metadata": {},
   "outputs": [],
   "source": [
    "# Define features and target variable\n",
    "X = df.iloc[:, :-1]  # Select all columns except the last one as features\n",
    "y = df.iloc[:, -1]  # Select the last column as the target variable"
   ]
  },
  {
   "cell_type": "code",
   "execution_count": null,
   "metadata": {},
   "outputs": [],
   "source": [
    "# Split data into training and validation sets\n",
    "X_train, X_val, y_train, y_val = train_test_split(X, y, test_size=0.2, random_state=0)"
   ]
  },
  {
   "cell_type": "code",
   "execution_count": null,
   "metadata": {},
   "outputs": [],
   "source": [
    "# Initialize lists to store accuracies\n",
    "max_depth_values = range(1, 21)\n",
    "training_accuracy_values = []\n",
    "validation_accuracy_values = []"
   ]
  },
  {
   "cell_type": "code",
   "execution_count": null,
   "metadata": {},
   "outputs": [],
   "source": [
    "# Train RandomForestClassifier with different max_depth values\n",
    "for max_depth in max_depth_values:\n",
    "    rfc = RandomForestClassifier(max_depth=max_depth, random_state=0)  # Initialize the Random Forest Classifier with max_depth\n",
    "    rfc.fit(X_train, y_train)  # Fit the model to the training data to train the classifier\n",
    "    train_acc = accuracy_score(y_train, rfc.predict(X_train))  # Calculate training accuracy\n",
    "    val_acc = accuracy_score(y_val, rfc.predict(X_val))  # Calculate validation accuracy\n",
    "    training_accuracy_values.append(train_acc)\n",
    "    validation_accuracy_values.append(val_acc)"
   ]
  },
  {
   "cell_type": "code",
   "execution_count": null,
   "metadata": {},
   "outputs": [],
   "source": [
    "# Plot the relationship between max_depth and accuracy\n",
    "plt.plot(max_depth_values, training_accuracy_values, label=\"Train Accuracy\")\n",
    "plt.plot(max_depth_values, validation_accuracy_values, label=\"Validation Accuracy\")\n",
    "plt.xlabel('max_depth')\n",
    "plt.ylabel('accuracy')\n",
    "plt.title('Relationship between max_depth and accuracy')\n",
    "plt.legend()\n",
    "plt.show()"
   ]
  },
  {
   "cell_type": "code",
   "execution_count": null,
   "metadata": {},
   "outputs": [],
   "source": [
    "# Load testing data\n",
    "test = pd.read_csv('Dataset\\\\test_data.csv')  # Read the testing dataset\n",
    "test.head()  # Display the first few rows of the testing dataset to understand its structure"
   ]
  },
  {
   "cell_type": "code",
   "execution_count": null,
   "metadata": {},
   "outputs": [],
   "source": [
    "# Encode target variable in test data\n",
    "test['prognosis'] = encoder.transform(test.prognosis)  # Encode the 'prognosis' column in the test data to match training data encoding"
   ]
  },
  {
   "cell_type": "code",
   "execution_count": null,
   "metadata": {},
   "outputs": [],
   "source": [
    "# Define test features and target\n",
    "testx = test.iloc[:, :-1]  # Select all columns except the last one as features in the test data\n",
    "testy = test.iloc[:, -1]  # Select the last column as the target variable in the test data"
   ]
  },
  {
   "cell_type": "code",
   "execution_count": null,
   "metadata": {},
   "outputs": [],
   "source": [
    "# Predict using the trained model with optimal max_depth\n",
    "optimal_rfc = RandomForestClassifier(max_depth=10, random_state=0)  # Using max_depth=10\n",
    "optimal_rfc.fit(X_train, y_train)\n",
    "y_pred = optimal_rfc.predict(testx)  # Predict the target variable for the test data using the trained model"
   ]
  },
  {
   "cell_type": "code",
   "execution_count": null,
   "metadata": {},
   "outputs": [],
   "source": [
    "# Evaluate the model\n",
    "print(f\"Accuracy on train data by Random Forest Classifier: {accuracy_score(y_train, optimal_rfc.predict(X_train)) * 100:.2f}%\")  # Print the accuracy on the training data to evaluate model performance\n",
    "print(f\"Accuracy on test data by Random Forest Classifier: {accuracy_score(testy, y_pred) * 100:.2f}%\")  # Print the accuracy on the test data to evaluate model performance"
   ]
  },
  {
   "cell_type": "code",
   "execution_count": null,
   "metadata": {},
   "outputs": [],
   "source": [
    "# Plot confusion matrix\n",
    "cf_matrix = confusion_matrix(testy, y_pred)  # Compute the confusion matrix to understand the performance of the classifier\n",
    "plt.figure(figsize=(12, 8))  # Set the figure size for the plot\n",
    "sns.heatmap(cf_matrix, annot=True, fmt='d')  # Plot the confusion matrix with annotations to visualize the results\n",
    "plt.title(\"Confusion Matrix for Random Forest Classifier on Test Data\")  # Set the title of the plot for clarity\n",
    "plt.show()  # Display the plot to visualize the confusion matrix"
   ]
  },
  {
   "cell_type": "markdown",
   "metadata": {},
   "source": [
    "Random Forest Classifier Without Python Packages"
   ]
  },
  {
   "cell_type": "code",
   "execution_count": 3,
   "metadata": {},
   "outputs": [
    {
     "name": "stdout",
     "output_type": "stream",
     "text": [
      "Accuracy: 60.00%\n"
     ]
    }
   ],
   "source": [
    "import math\n",
    "import random\n",
    "from collections import Counter\n",
    "\n",
    "# Function to calculate the Gini index for a dataset\n",
    "def calculate_gini_index(df):\n",
    "    total_instances = len(df)\n",
    "    if total_instances == 0:\n",
    "        return 0\n",
    "\n",
    "    label_counts = Counter(df['label'])\n",
    "    gini = 1.0\n",
    "    for count in label_counts.values():\n",
    "        probability = count / total_instances\n",
    "        gini -= probability ** 2\n",
    "    \n",
    "    return gini\n",
    "\n",
    "# Function to split a dataset based on a feature and value\n",
    "def split_dataset(df, feature, value):\n",
    "    left_split = df[df[feature] < value]\n",
    "    right_split = df[df[feature] >= value]\n",
    "    return left_split, right_split\n",
    "\n",
    "# Function to calculate the best split point for a dataset\n",
    "def get_best_split(df, sample_size):\n",
    "    # Ensure sample_size is an integer\n",
    "    sample_size = int(sample_size)\n",
    "    \n",
    "    # Get a random sample of features\n",
    "    features = random.sample(df.columns[:-1].tolist(), sample_size)\n",
    "    \n",
    "    best_gini = float('inf')\n",
    "    best_feature = None\n",
    "    best_value = None\n",
    "\n",
    "    for feature in features:\n",
    "        values = df[feature].unique()\n",
    "        for value in values:\n",
    "            left_split, right_split = split_dataset(df, feature, value)\n",
    "            gini = (len(left_split) / len(df)) * calculate_gini_index(left_split) + \\\n",
    "                   (len(right_split) / len(df)) * calculate_gini_index(right_split)\n",
    "            if gini < best_gini:\n",
    "                best_gini, best_feature, best_value = gini, feature, value\n",
    "    \n",
    "    return best_feature, best_value\n",
    "\n",
    "# Tree node class\n",
    "class TreeNode:\n",
    "    def __init__(self, feature=None, value=None, left=None, right=None, prediction=None):\n",
    "        self.feature = feature\n",
    "        self.value = value\n",
    "        self.left = left\n",
    "        self.right = right\n",
    "        self.prediction = prediction\n",
    "\n",
    "# Function to build a decision tree\n",
    "def build_tree(df, max_depth, min_size, sample_size, depth=0):\n",
    "    labels = df['label'].tolist()\n",
    "    if len(set(labels)) == 1:\n",
    "        return TreeNode(prediction=labels[0])\n",
    "    if depth >= max_depth or len(df) <= min_size:\n",
    "        most_common_label = Counter(labels).most_common(1)[0][0]\n",
    "        return TreeNode(prediction=most_common_label)\n",
    "\n",
    "    feature, value = get_best_split(df, sample_size)\n",
    "    if feature is None:\n",
    "        most_common_label = Counter(labels).most_common(1)[0][0]\n",
    "        return TreeNode(prediction=most_common_label)\n",
    "\n",
    "    left_split, right_split = split_dataset(df, feature, value)\n",
    "    left_subtree = build_tree(left_split, max_depth, min_size, sample_size, depth + 1)\n",
    "    right_subtree = build_tree(right_split, max_depth, min_size, sample_size, depth + 1)\n",
    "\n",
    "    return TreeNode(feature=feature, value=value, left=left_subtree, right=right_subtree)\n",
    "\n",
    "# Function to make predictions with a tree\n",
    "def predict(tree, instance):\n",
    "    if tree is None or tree.prediction is not None:\n",
    "        return tree.prediction\n",
    "    if instance[tree.feature] < tree.value:\n",
    "        return predict(tree.left, instance)\n",
    "    else:\n",
    "        return predict(tree.right, instance)\n",
    "\n",
    "# Function to make predictions with a forest\n",
    "def bagging_predict(trees, instance):\n",
    "    predictions = [predict(tree, instance) for tree in trees]\n",
    "    return Counter(predictions).most_common(1)[0][0]\n",
    "\n",
    "# Function to build a random forest\n",
    "def build_forest(df, n_trees, max_depth, min_size, sample_size):\n",
    "    trees = []\n",
    "    for _ in range(n_trees):\n",
    "        sample = df.sample(frac=sample_size, replace=True)\n",
    "        tree = build_tree(sample, max_depth, min_size, sample_size)\n",
    "        trees.append(tree)\n",
    "    return trees\n",
    "\n",
    "# Function to make predictions with a forest for a dataframe\n",
    "def predict_forest(forest, df):\n",
    "    predictions = df.apply(lambda row: bagging_predict(forest, row), axis=1)\n",
    "    return predictions\n",
    "\n",
    "# Main code\n",
    "if __name__ == '__main__':\n",
    "    import pandas as pd\n",
    "\n",
    "    # Example: Load training and test data\n",
    "    # Replace with your actual dataset loading code\n",
    "    X_train = pd.DataFrame({'feature1': [1, 0, 1, 0, 1],\n",
    "                            'feature2': [1, 0, 1, 1, 0],\n",
    "                            'label': [1, 0, 1, 0, 1]})\n",
    "\n",
    "    y_train = X_train['label']\n",
    "    X_train.drop(columns=['label'], inplace=True)\n",
    "\n",
    "    X_test = pd.DataFrame({'feature1': [1, 0, 1, 0, 1],\n",
    "                           'feature2': [1, 0, 1, 1, 0]})\n",
    "    \n",
    "    y_test = pd.Series([1, 0, 1, 0, 1])\n",
    "\n",
    "    # Rename the target column to 'label'\n",
    "    X_train['label'] = y_train\n",
    "\n",
    "    # Build the random forest\n",
    "    n_trees = 10\n",
    "    max_depth = 5\n",
    "    min_size = 1\n",
    "    sample_size = 0.5\n",
    "    forest = build_forest(X_train, n_trees, max_depth, min_size, sample_size)\n",
    "\n",
    "    # Make predictions\n",
    "    predictions = predict_forest(forest, X_test)\n",
    "\n",
    "    # Calculate accuracy\n",
    "    accuracy = (predictions == y_test).mean()\n",
    "    print(f\"Accuracy: {accuracy * 100:.2f}%\")\n"
   ]
  }
 ],
 "metadata": {
  "kernelspec": {
   "display_name": "Python 3",
   "language": "python",
   "name": "python3"
  },
  "language_info": {
   "codemirror_mode": {
    "name": "ipython",
    "version": 3
   },
   "file_extension": ".py",
   "mimetype": "text/x-python",
   "name": "python",
   "nbconvert_exporter": "python",
   "pygments_lexer": "ipython3",
   "version": "3.11.3"
  }
 },
 "nbformat": 4,
 "nbformat_minor": 2
}
